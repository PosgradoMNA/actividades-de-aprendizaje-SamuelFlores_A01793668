{
  "nbformat": 4,
  "nbformat_minor": 0,
  "metadata": {
    "colab": {
      "provenance": [],
      "collapsed_sections": []
    },
    "kernelspec": {
      "name": "python3",
      "display_name": "Python 3"
    },
    "language_info": {
      "name": "python"
    }
  },
  "cells": [
    {
      "cell_type": "markdown",
      "source": [],
      "metadata": {
        "id": "S-gx68X6Oxkk"
      }
    },
    {
      "cell_type": "markdown",
      "source": [
        "# **Practica 1**"
      ],
      "metadata": {
        "id": "dX9nexwbOy1b"
      }
    },
    {
      "cell_type": "markdown",
      "source": [
        "TUPLES"
      ],
      "metadata": {
        "id": "v0vUe4DZSt2S"
      }
    },
    {
      "cell_type": "code",
      "execution_count": 4,
      "metadata": {
        "colab": {
          "base_uri": "https://localhost:8080/"
        },
        "id": "m5PN-VSONY1n",
        "outputId": "eb880d2f-a146-4c34-8312-f4b54088dc19"
      },
      "outputs": [
        {
          "output_type": "execute_result",
          "data": {
            "text/plain": [
              "('disco', 10, 1.2)"
            ]
          },
          "metadata": {},
          "execution_count": 4
        }
      ],
      "source": [
        "Ratings = (10, 9, 6, 5, 10, 8, 8 ,6, 2)\n",
        "tuple1 = ('disco', 10, 1.2) #Distintos tipos en una tupla\n",
        "tuple1                      #Muestra contenido de tupla"
      ]
    },
    {
      "cell_type": "code",
      "source": [
        "type(tuple1) # tupla es un tipo"
      ],
      "metadata": {
        "colab": {
          "base_uri": "https://localhost:8080/"
        },
        "id": "b_OpXkduPH9D",
        "outputId": "1b34eb41-84cc-4790-9991-c7b6d4b35932"
      },
      "execution_count": 5,
      "outputs": [
        {
          "output_type": "execute_result",
          "data": {
            "text/plain": [
              "tuple"
            ]
          },
          "metadata": {},
          "execution_count": 5
        }
      ]
    },
    {
      "cell_type": "code",
      "source": [
        "tuple2 = tuple1 + (\"hard rock\", 10)    #Se pueden concatenar elementos\n",
        "print(tuple2)                          #Mostrar resultante de concatenado"
      ],
      "metadata": {
        "colab": {
          "base_uri": "https://localhost:8080/"
        },
        "id": "YCEStuM8PUx7",
        "outputId": "2df764c7-e6a7-4f27-87f1-ae5661738f31"
      },
      "execution_count": 6,
      "outputs": [
        {
          "output_type": "stream",
          "name": "stdout",
          "text": [
            "('disco', 10, 1.2, 'hard rock', 10)\n"
          ]
        }
      ]
    },
    {
      "cell_type": "code",
      "source": [
        "print(tuple2[0:1], tuple2[3:5]) #Mostrar valores "
      ],
      "metadata": {
        "colab": {
          "base_uri": "https://localhost:8080/"
        },
        "id": "4eRXh3KmP2Nz",
        "outputId": "06e70d0f-15b6-4693-d99a-e8f38e0e3f99"
      },
      "execution_count": 8,
      "outputs": [
        {
          "output_type": "stream",
          "name": "stdout",
          "text": [
            "('disco',) ('hard rock', 10)\n"
          ]
        }
      ]
    },
    {
      "cell_type": "code",
      "source": [
        "len(tuple2)"
      ],
      "metadata": {
        "colab": {
          "base_uri": "https://localhost:8080/"
        },
        "id": "9quUOYTAQb3M",
        "outputId": "aa7dba76-a59d-47c9-c87d-2ed1dc0684e3"
      },
      "execution_count": 9,
      "outputs": [
        {
          "output_type": "execute_result",
          "data": {
            "text/plain": [
              "5"
            ]
          },
          "metadata": {},
          "execution_count": 9
        }
      ]
    },
    {
      "cell_type": "code",
      "source": [
        "Ratings = (10, 9, 6, 5, 10, 8, 8 ,6, 2)\n",
        "RatingsSorted = sorted(Ratings)         #Ordenar Tupla, las tuplzas son inmutables\n",
        "print(RatingsSorted)"
      ],
      "metadata": {
        "colab": {
          "base_uri": "https://localhost:8080/"
        },
        "id": "u7bDNDJoQnEk",
        "outputId": "23f4c28b-60f1-4434-ab72-234635d207e2"
      },
      "execution_count": 11,
      "outputs": [
        {
          "output_type": "stream",
          "name": "stdout",
          "text": [
            "[2, 5, 6, 6, 8, 8, 9, 10, 10]\n"
          ]
        }
      ]
    },
    {
      "cell_type": "code",
      "source": [
        "NT = (1,2,(\"pop\",\"rock\"),(3,4),(\"disco\",(1,2)))\n",
        "print(NT[2][1]) # NT[2] = (\"pop\", \"rock\"), NT[2][1] = (\"rock\")\n",
        "print(NT[3][0]) # NT[3] = (3,4), NT[3][0] = (3)\n",
        "print(NT[2][1][0]) # NT[2] = (\"pop\", \"rock\"), NT[4][1] = \"rock\", NT[4][1][1] = r\n",
        "print(NT[4][1][1]) # NT[4] = (\"disco\", (1,2)), NT[4][1] = (1,2) and NT[4][1][1] = 2"
      ],
      "metadata": {
        "colab": {
          "base_uri": "https://localhost:8080/"
        },
        "id": "GKvttfOSQ6fC",
        "outputId": "84c50f5c-c25a-4dcc-c0df-4158b35c1290"
      },
      "execution_count": 15,
      "outputs": [
        {
          "output_type": "stream",
          "name": "stdout",
          "text": [
            "rock\n",
            "3\n",
            "r\n",
            "2\n"
          ]
        }
      ]
    },
    {
      "cell_type": "markdown",
      "source": [
        "# **Practica 2**"
      ],
      "metadata": {
        "id": "6L9HZO1-j1fv"
      }
    },
    {
      "cell_type": "markdown",
      "source": [
        "LIST"
      ],
      "metadata": {
        "id": "6fhcohK4SvuU"
      }
    },
    {
      "cell_type": "code",
      "source": [
        "List1 = [\"Michael Jackson\", 10.1, 1982] #Distintos tipos de variables\n",
        "List2 = [\"Michael Jackson\", 10.1, 1982, [1,2], ('A',1)] #Listas anidadas\n",
        "List3 = [List1, [1,2], ('A',1)] #Listas anidadas\n",
        "print(List1)\n",
        "print(List2)\n",
        "print(List3)"
      ],
      "metadata": {
        "colab": {
          "base_uri": "https://localhost:8080/"
        },
        "id": "0huVGPZiS0WL",
        "outputId": "c2ef1223-d92a-433c-970c-c881b596e276"
      },
      "execution_count": 18,
      "outputs": [
        {
          "output_type": "stream",
          "name": "stdout",
          "text": [
            "['Michael Jackson', 10.1, 1982]\n",
            "['Michael Jackson', 10.1, 1982, [1, 2], ('A', 1)]\n",
            "[['Michael Jackson', 10.1, 1982], [1, 2], ('A', 1)]\n"
          ]
        }
      ]
    },
    {
      "cell_type": "code",
      "source": [
        "print(List1[0], List1[-3]) # index y index negativo con mismo resultado"
      ],
      "metadata": {
        "colab": {
          "base_uri": "https://localhost:8080/"
        },
        "id": "RXdWLAg-VVqh",
        "outputId": "b37b19d2-48a8-4029-8ccc-e49b6cdb597c"
      },
      "execution_count": 23,
      "outputs": [
        {
          "output_type": "stream",
          "name": "stdout",
          "text": [
            "Michael Jackson Michael Jackson\n"
          ]
        }
      ]
    },
    {
      "cell_type": "code",
      "source": [
        "print(List3[0:1])    #Slice"
      ],
      "metadata": {
        "colab": {
          "base_uri": "https://localhost:8080/"
        },
        "id": "1eCrNgf_V5Aq",
        "outputId": "7efe6870-fbbb-463d-a44d-7618b45d01f5"
      },
      "execution_count": 24,
      "outputs": [
        {
          "output_type": "stream",
          "name": "stdout",
          "text": [
            "[['Michael Jackson', 10.1, 1982]]\n"
          ]
        }
      ]
    },
    {
      "cell_type": "code",
      "source": [
        "L = [\"Michael Jackson\", 10.1, 1982]\n",
        "L1 = L + ['pop',10]                        #Concatenar Listas\n",
        "print (L1)"
      ],
      "metadata": {
        "colab": {
          "base_uri": "https://localhost:8080/"
        },
        "id": "ei4pLNcIWCeq",
        "outputId": "26d44c82-1525-4352-c5ad-e440449f735e"
      },
      "execution_count": 47,
      "outputs": [
        {
          "output_type": "stream",
          "name": "stdout",
          "text": [
            "['Michael Jackson', 10.1, 1982, 'pop', 10]\n"
          ]
        }
      ]
    },
    {
      "cell_type": "code",
      "source": [
        "L1.extend([\"pop\",10]) #Agrega elementos a la lista\n",
        "print(L1)\n",
        "L1.append(\"A\") #Agrega un elemento mas a la lista\n",
        "print(L1)"
      ],
      "metadata": {
        "colab": {
          "base_uri": "https://localhost:8080/"
        },
        "id": "Hm2cRGENWifa",
        "outputId": "9ceec8a5-8da6-487b-d595-5130101b6c76"
      },
      "execution_count": 52,
      "outputs": [
        {
          "output_type": "stream",
          "name": "stdout",
          "text": [
            "['Michael Jackson', 10.1, 1982, 'pop', 10, 'pop', 10, 'A', 'pop', 10, 'A', 'pop', 10, 'A', 'pop', 10, 'A', 'pop', 10]\n",
            "['Michael Jackson', 10.1, 1982, 'pop', 10, 'pop', 10, 'A', 'pop', 10, 'A', 'pop', 10, 'A', 'pop', 10, 'A', 'pop', 10, 'A']\n"
          ]
        }
      ]
    },
    {
      "cell_type": "code",
      "source": [
        "del(L1[0]) #Borrar el elemento 0 = Michael Jackson de la lista\n",
        "print(L1)"
      ],
      "metadata": {
        "colab": {
          "base_uri": "https://localhost:8080/"
        },
        "id": "v-Js2Re2YFVL",
        "outputId": "c5cca919-0102-4e00-f7f5-0a85e36f0498"
      },
      "execution_count": 53,
      "outputs": [
        {
          "output_type": "stream",
          "name": "stdout",
          "text": [
            "[10.1, 1982, 'pop', 10, 'pop', 10, 'A', 'pop', 10, 'A', 'pop', 10, 'A', 'pop', 10, 'A', 'pop', 10, 'A']\n"
          ]
        }
      ]
    },
    {
      "cell_type": "code",
      "source": [
        "\"Hard Rock\".split()      #Split "
      ],
      "metadata": {
        "colab": {
          "base_uri": "https://localhost:8080/"
        },
        "id": "FyiJsThAYLNz",
        "outputId": "ffd0977f-596b-4546-e583-f0a170d48685"
      },
      "execution_count": 56,
      "outputs": [
        {
          "output_type": "execute_result",
          "data": {
            "text/plain": [
              "['Hard', 'Rock']"
            ]
          },
          "metadata": {},
          "execution_count": 56
        }
      ]
    },
    {
      "cell_type": "code",
      "source": [
        "\"A,B,C,D\".split(\",\")     #Split mediante delimitador (Coma)"
      ],
      "metadata": {
        "colab": {
          "base_uri": "https://localhost:8080/"
        },
        "id": "IW1hd5jpY8eB",
        "outputId": "18605fc2-d9bf-4160-ff93-b1d29311b15c"
      },
      "execution_count": 57,
      "outputs": [
        {
          "output_type": "execute_result",
          "data": {
            "text/plain": [
              "['A', 'B', 'C', 'D']"
            ]
          },
          "metadata": {},
          "execution_count": 57
        }
      ]
    },
    {
      "cell_type": "code",
      "source": [
        "ListA=[\"Hard Rock\", 10, 1.2]                  #Aliasing\n",
        "ListB=ListA\n",
        "print(ListB[0], ListA[0])"
      ],
      "metadata": {
        "colab": {
          "base_uri": "https://localhost:8080/"
        },
        "id": "lVPcdB9mZL9R",
        "outputId": "c3e4393f-0f29-4929-e63b-2386701d17b5"
      },
      "execution_count": 60,
      "outputs": [
        {
          "output_type": "stream",
          "name": "stdout",
          "text": [
            "Hard Rock Hard Rock\n"
          ]
        }
      ]
    },
    {
      "cell_type": "code",
      "source": [
        "ListA=[\"Banana\", 10, 1.2]                  #Clone\n",
        "ListB=ListA[:]\n",
        "print(ListB)"
      ],
      "metadata": {
        "colab": {
          "base_uri": "https://localhost:8080/"
        },
        "id": "EaCNC5-hZvEB",
        "outputId": "f2a0fd65-f82c-409d-9697-abab78ae8449"
      },
      "execution_count": 63,
      "outputs": [
        {
          "output_type": "stream",
          "name": "stdout",
          "text": [
            "['Banana', 10, 1.2]\n"
          ]
        }
      ]
    },
    {
      "cell_type": "code",
      "source": [
        "help(ListA)   #Muestra las funciones de python\n"
      ],
      "metadata": {
        "colab": {
          "base_uri": "https://localhost:8080/"
        },
        "id": "9lqX5x8OaFYK",
        "outputId": "d60377fc-68ca-499f-cd2e-1ac599b761cb"
      },
      "execution_count": 65,
      "outputs": [
        {
          "output_type": "stream",
          "name": "stdout",
          "text": [
            "Help on list object:\n",
            "\n",
            "class list(object)\n",
            " |  list(iterable=(), /)\n",
            " |  \n",
            " |  Built-in mutable sequence.\n",
            " |  \n",
            " |  If no argument is given, the constructor creates a new empty list.\n",
            " |  The argument must be an iterable if specified.\n",
            " |  \n",
            " |  Methods defined here:\n",
            " |  \n",
            " |  __add__(self, value, /)\n",
            " |      Return self+value.\n",
            " |  \n",
            " |  __contains__(self, key, /)\n",
            " |      Return key in self.\n",
            " |  \n",
            " |  __delitem__(self, key, /)\n",
            " |      Delete self[key].\n",
            " |  \n",
            " |  __eq__(self, value, /)\n",
            " |      Return self==value.\n",
            " |  \n",
            " |  __ge__(self, value, /)\n",
            " |      Return self>=value.\n",
            " |  \n",
            " |  __getattribute__(self, name, /)\n",
            " |      Return getattr(self, name).\n",
            " |  \n",
            " |  __getitem__(...)\n",
            " |      x.__getitem__(y) <==> x[y]\n",
            " |  \n",
            " |  __gt__(self, value, /)\n",
            " |      Return self>value.\n",
            " |  \n",
            " |  __iadd__(self, value, /)\n",
            " |      Implement self+=value.\n",
            " |  \n",
            " |  __imul__(self, value, /)\n",
            " |      Implement self*=value.\n",
            " |  \n",
            " |  __init__(self, /, *args, **kwargs)\n",
            " |      Initialize self.  See help(type(self)) for accurate signature.\n",
            " |  \n",
            " |  __iter__(self, /)\n",
            " |      Implement iter(self).\n",
            " |  \n",
            " |  __le__(self, value, /)\n",
            " |      Return self<=value.\n",
            " |  \n",
            " |  __len__(self, /)\n",
            " |      Return len(self).\n",
            " |  \n",
            " |  __lt__(self, value, /)\n",
            " |      Return self<value.\n",
            " |  \n",
            " |  __mul__(self, value, /)\n",
            " |      Return self*value.\n",
            " |  \n",
            " |  __ne__(self, value, /)\n",
            " |      Return self!=value.\n",
            " |  \n",
            " |  __repr__(self, /)\n",
            " |      Return repr(self).\n",
            " |  \n",
            " |  __reversed__(self, /)\n",
            " |      Return a reverse iterator over the list.\n",
            " |  \n",
            " |  __rmul__(self, value, /)\n",
            " |      Return value*self.\n",
            " |  \n",
            " |  __setitem__(self, key, value, /)\n",
            " |      Set self[key] to value.\n",
            " |  \n",
            " |  __sizeof__(self, /)\n",
            " |      Return the size of the list in memory, in bytes.\n",
            " |  \n",
            " |  append(self, object, /)\n",
            " |      Append object to the end of the list.\n",
            " |  \n",
            " |  clear(self, /)\n",
            " |      Remove all items from list.\n",
            " |  \n",
            " |  copy(self, /)\n",
            " |      Return a shallow copy of the list.\n",
            " |  \n",
            " |  count(self, value, /)\n",
            " |      Return number of occurrences of value.\n",
            " |  \n",
            " |  extend(self, iterable, /)\n",
            " |      Extend list by appending elements from the iterable.\n",
            " |  \n",
            " |  index(self, value, start=0, stop=9223372036854775807, /)\n",
            " |      Return first index of value.\n",
            " |      \n",
            " |      Raises ValueError if the value is not present.\n",
            " |  \n",
            " |  insert(self, index, object, /)\n",
            " |      Insert object before index.\n",
            " |  \n",
            " |  pop(self, index=-1, /)\n",
            " |      Remove and return item at index (default last).\n",
            " |      \n",
            " |      Raises IndexError if list is empty or index is out of range.\n",
            " |  \n",
            " |  remove(self, value, /)\n",
            " |      Remove first occurrence of value.\n",
            " |      \n",
            " |      Raises ValueError if the value is not present.\n",
            " |  \n",
            " |  reverse(self, /)\n",
            " |      Reverse *IN PLACE*.\n",
            " |  \n",
            " |  sort(self, /, *, key=None, reverse=False)\n",
            " |      Stable sort *IN PLACE*.\n",
            " |  \n",
            " |  ----------------------------------------------------------------------\n",
            " |  Static methods defined here:\n",
            " |  \n",
            " |  __new__(*args, **kwargs) from builtins.type\n",
            " |      Create and return a new object.  See help(type) for accurate signature.\n",
            " |  \n",
            " |  ----------------------------------------------------------------------\n",
            " |  Data and other attributes defined here:\n",
            " |  \n",
            " |  __hash__ = None\n",
            "\n"
          ]
        }
      ]
    },
    {
      "cell_type": "code",
      "source": [
        "B=[\"a\",\"b\",\"c\",]\n",
        "B[1:]"
      ],
      "metadata": {
        "colab": {
          "base_uri": "https://localhost:8080/"
        },
        "id": "do0_gvcRaV-h",
        "outputId": "bb94ccd8-cd00-4ee6-fe19-06a2b21db968"
      },
      "execution_count": 70,
      "outputs": [
        {
          "output_type": "execute_result",
          "data": {
            "text/plain": [
              "['b', 'c']"
            ]
          },
          "metadata": {},
          "execution_count": 70
        }
      ]
    },
    {
      "cell_type": "markdown",
      "source": [
        "# **Practica 3**"
      ],
      "metadata": {
        "id": "T3Qa80KSj9u7"
      }
    },
    {
      "cell_type": "markdown",
      "source": [
        "SETS:\n",
        "\n",
        "Son colecciones y no tienen orden, osea que no guardan posicion. Ademas solo guardan un elemento en particular en cada set"
      ],
      "metadata": {
        "id": "rCi7EFbXbg3v"
      }
    },
    {
      "cell_type": "code",
      "source": [
        "Set1 = {\"pop\",\"rock\",\"hard rock\", \"rock\", \"R&B\", \"rock\", \"disco\"} #Elementos no se duplican\n",
        "print(Set1)"
      ],
      "metadata": {
        "colab": {
          "base_uri": "https://localhost:8080/"
        },
        "id": "A5IiApXRbj7C",
        "outputId": "c98eff28-a33e-459d-850d-635cd6b41847"
      },
      "execution_count": 72,
      "outputs": [
        {
          "output_type": "stream",
          "name": "stdout",
          "text": [
            "{'pop', 'rock', 'hard rock', 'disco', 'R&B'}\n"
          ]
        }
      ]
    },
    {
      "cell_type": "code",
      "source": [
        "album_list = [\"Michael Jackson\", \"Thriller\", \"Thriller\", 1982] #Type casting usa listas de entradfa para convertirlas en sets\n",
        "print(album_list)\n",
        "album_set = set(album_list)\n",
        "print(album_set) #se eliminan elementos duplicados"
      ],
      "metadata": {
        "colab": {
          "base_uri": "https://localhost:8080/"
        },
        "id": "XKQHtvdicNhJ",
        "outputId": "ea39da2b-88c7-4e82-bdd6-d2f473fb20b3"
      },
      "execution_count": 73,
      "outputs": [
        {
          "output_type": "stream",
          "name": "stdout",
          "text": [
            "['Michael Jackson', 'Thriller', 'Thriller', 1982]\n",
            "{'Michael Jackson', 1982, 'Thriller'}\n"
          ]
        }
      ]
    },
    {
      "cell_type": "code",
      "source": [
        "Set1 = {\"Thriller\", \"Back in Back\", \"AC/DC\"}  #Operaciones\n",
        "print(Set1)\n",
        "Set1.add(\"NSYNC\") #Agrega elemento\n",
        "print(Set1)\n",
        "Set1.remove(\"NSYNC\")  #Remueve elemento\n",
        "print(Set1)"
      ],
      "metadata": {
        "colab": {
          "base_uri": "https://localhost:8080/"
        },
        "id": "GHn_VHC_czV5",
        "outputId": "71ffbbca-4175-41d5-bb8c-e2ef99e7467d"
      },
      "execution_count": 91,
      "outputs": [
        {
          "output_type": "stream",
          "name": "stdout",
          "text": [
            "{'Back in Back', 'AC/DC', 'Thriller'}\n",
            "{'Back in Back', 'NSYNC', 'AC/DC', 'Thriller'}\n",
            "{'Back in Back', 'AC/DC', 'Thriller'}\n"
          ]
        }
      ]
    },
    {
      "cell_type": "code",
      "source": [
        "\"who\" in SetA #Who esta en dentro del set?"
      ],
      "metadata": {
        "colab": {
          "base_uri": "https://localhost:8080/"
        },
        "id": "NVetRxWGdSGR",
        "outputId": "39bfc037-543f-43b4-d961-e96828bd4a75"
      },
      "execution_count": 77,
      "outputs": [
        {
          "output_type": "execute_result",
          "data": {
            "text/plain": [
              "False"
            ]
          },
          "metadata": {},
          "execution_count": 77
        }
      ]
    },
    {
      "cell_type": "code",
      "source": [
        "\"AC/DC\" in SetA #ACDC se encuentra dentro del setA?"
      ],
      "metadata": {
        "colab": {
          "base_uri": "https://localhost:8080/"
        },
        "id": "bZXRCFVWdUlK",
        "outputId": "294d962a-226d-43b1-d647-6c593d97a3aa"
      },
      "execution_count": 78,
      "outputs": [
        {
          "output_type": "execute_result",
          "data": {
            "text/plain": [
              "True"
            ]
          },
          "metadata": {},
          "execution_count": 78
        }
      ]
    },
    {
      "cell_type": "code",
      "source": [
        "Set2 = {\"Back in Back\", \"AC/DC\", \"The dark side of the moon\"} \n",
        "Set3 = Set1 & Set2          #Regresa el los elementos iguales regresa la interseccion del diagrama de venn\n",
        "print(Set3)"
      ],
      "metadata": {
        "colab": {
          "base_uri": "https://localhost:8080/"
        },
        "id": "1OGVLfmZdg_p",
        "outputId": "778c40da-a994-418d-bbd9-9c5f7f8ad01e"
      },
      "execution_count": 93,
      "outputs": [
        {
          "output_type": "stream",
          "name": "stdout",
          "text": [
            "{'Back in Back', 'AC/DC'}\n"
          ]
        }
      ]
    },
    {
      "cell_type": "code",
      "source": [
        "Set4 = Set1.union(Set2)    #Combina los sets\n",
        "print(Set4)"
      ],
      "metadata": {
        "colab": {
          "base_uri": "https://localhost:8080/"
        },
        "id": "gRZt8tBDfIvi",
        "outputId": "afcb9088-e5a2-4de0-8cdc-c5633324bcfc"
      },
      "execution_count": 95,
      "outputs": [
        {
          "output_type": "stream",
          "name": "stdout",
          "text": [
            "{'AC/DC', 'Thriller', 'The dark side of the moon', 'Back in Back'}\n"
          ]
        }
      ]
    },
    {
      "cell_type": "code",
      "source": [
        "Set2.issubset(Set1)         #Compara sets"
      ],
      "metadata": {
        "colab": {
          "base_uri": "https://localhost:8080/"
        },
        "id": "uFmmhBUIfMU5",
        "outputId": "669adebf-d50d-435e-f482-8381054eeb06"
      },
      "execution_count": 96,
      "outputs": [
        {
          "output_type": "execute_result",
          "data": {
            "text/plain": [
              "False"
            ]
          },
          "metadata": {},
          "execution_count": 96
        }
      ]
    },
    {
      "cell_type": "markdown",
      "source": [
        "# **Practica 4**"
      ],
      "metadata": {
        "id": "ruZw_E2pj_6g"
      }
    },
    {
      "cell_type": "markdown",
      "source": [
        "Dictionaries:\n",
        "\n",
        "Son un tipo de coleccion en Python\n"
      ],
      "metadata": {
        "id": "ErfKwhB0hsLk"
      }
    },
    {
      "cell_type": "code",
      "source": [
        "Dict1 = {\"Thriller\": 1982, \"Back in Black\": 1980, \"The Dark Side of the moon\": 1973, \"The bodyguard\": 1992}\n",
        "#Key: Nombres de las canciones\n",
        "#Valores: Fechas\n",
        "print(Dict1[\"Thriller\"])   #Regresa el valor del key Thriller\n",
        "print(Dict1[\"Back in Black\"]) \n",
        "print(Dict1[\"The Dark Side of the moon\"]) "
      ],
      "metadata": {
        "colab": {
          "base_uri": "https://localhost:8080/"
        },
        "id": "Cn1zCV8vh9zA",
        "outputId": "465514c6-955c-49d1-fe62-34323c63d813"
      },
      "execution_count": 108,
      "outputs": [
        {
          "output_type": "stream",
          "name": "stdout",
          "text": [
            "1982\n",
            "1980\n",
            "1973\n"
          ]
        }
      ]
    },
    {
      "cell_type": "code",
      "source": [
        "\"Back in Black\" in Dict1   #Determina si la llave se encuentra en dict1 "
      ],
      "metadata": {
        "colab": {
          "base_uri": "https://localhost:8080/"
        },
        "id": "2F0QzDXqibVY",
        "outputId": "8b5b8050-a981-4d71-acaa-54722ed78982"
      },
      "execution_count": 110,
      "outputs": [
        {
          "output_type": "execute_result",
          "data": {
            "text/plain": [
              "True"
            ]
          },
          "metadata": {},
          "execution_count": 110
        }
      ]
    },
    {
      "cell_type": "code",
      "source": [
        "\"Iron Man\" in Dict1  "
      ],
      "metadata": {
        "colab": {
          "base_uri": "https://localhost:8080/"
        },
        "id": "NzJUIPWJkTCY",
        "outputId": "8f5491e0-35ed-4f5e-eff9-ed92ed738d4c"
      },
      "execution_count": 111,
      "outputs": [
        {
          "output_type": "execute_result",
          "data": {
            "text/plain": [
              "False"
            ]
          },
          "metadata": {},
          "execution_count": 111
        }
      ]
    },
    {
      "cell_type": "code",
      "source": [
        "Dict1.values() #Regresa valores"
      ],
      "metadata": {
        "colab": {
          "base_uri": "https://localhost:8080/"
        },
        "id": "WEbunlMei1C4",
        "outputId": "24810fa3-06cd-48c7-bddd-061c286ff634"
      },
      "execution_count": 104,
      "outputs": [
        {
          "output_type": "execute_result",
          "data": {
            "text/plain": [
              "dict_values([1982, 1980, 1973, 1992])"
            ]
          },
          "metadata": {},
          "execution_count": 104
        }
      ]
    },
    {
      "cell_type": "code",
      "source": [
        "Dict1.keys() #Regresa keys"
      ],
      "metadata": {
        "colab": {
          "base_uri": "https://localhost:8080/"
        },
        "id": "1p2phnvcjEMg",
        "outputId": "69d5b5ff-6346-4861-f565-1314a2882b1e"
      },
      "execution_count": 105,
      "outputs": [
        {
          "output_type": "execute_result",
          "data": {
            "text/plain": [
              "dict_keys(['Thriller', 'Back in Black', 'The Dark Side of the moon', 'The bodyguard'])"
            ]
          },
          "metadata": {},
          "execution_count": 105
        }
      ]
    }
  ]
}