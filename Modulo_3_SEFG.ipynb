{
  "nbformat": 4,
  "nbformat_minor": 0,
  "metadata": {
    "colab": {
      "provenance": [],
      "collapsed_sections": []
    },
    "kernelspec": {
      "name": "python3",
      "display_name": "Python 3"
    },
    "language_info": {
      "name": "python"
    }
  },
  "cells": [
    {
      "cell_type": "markdown",
      "source": [
        "# **Practica 1**"
      ],
      "metadata": {
        "id": "ADJhAy2anBHX"
      }
    },
    {
      "cell_type": "markdown",
      "source": [
        "CONDITIONS AND BRANCHING"
      ],
      "metadata": {
        "id": "wOUqW3JSnFe4"
      }
    },
    {
      "cell_type": "code",
      "execution_count": 1,
      "metadata": {
        "colab": {
          "base_uri": "https://localhost:8080/"
        },
        "id": "XUSpa7s3lxqJ",
        "outputId": "7d7b0442-3087-4bc9-a390-b89df2579627"
      },
      "outputs": [
        {
          "output_type": "execute_result",
          "data": {
            "text/plain": [
              "False"
            ]
          },
          "metadata": {},
          "execution_count": 1
        }
      ],
      "source": [
        "a=6    #Asignacion\n",
        "a==7   #Comparacion"
      ]
    },
    {
      "cell_type": "code",
      "source": [
        "a=6    #Asignacion\n",
        "a==6   #Comparacion"
      ],
      "metadata": {
        "colab": {
          "base_uri": "https://localhost:8080/"
        },
        "id": "xMo4i-EGm7BI",
        "outputId": "3f5d89d4-3c83-418b-98db-e1662c73aad5"
      },
      "execution_count": 2,
      "outputs": [
        {
          "output_type": "execute_result",
          "data": {
            "text/plain": [
              "True"
            ]
          },
          "metadata": {},
          "execution_count": 2
        }
      ]
    },
    {
      "cell_type": "code",
      "source": [
        "a=6   #Asignacion\n",
        "a>5   #6 mayor que 5?"
      ],
      "metadata": {
        "colab": {
          "base_uri": "https://localhost:8080/"
        },
        "id": "ssu8RvLanJs3",
        "outputId": "824f6cda-e68f-4ce3-e07c-de0b75517901"
      },
      "execution_count": 3,
      "outputs": [
        {
          "output_type": "execute_result",
          "data": {
            "text/plain": [
              "True"
            ]
          },
          "metadata": {},
          "execution_count": 3
        }
      ]
    },
    {
      "cell_type": "code",
      "source": [
        "a=6  #Asignacion\n",
        "a<5  #6 menor que 5?"
      ],
      "metadata": {
        "colab": {
          "base_uri": "https://localhost:8080/"
        },
        "id": "41XdjQUXnVE3",
        "outputId": "b222c8ec-3c68-40d9-a9d3-482f4f5417fd"
      },
      "execution_count": 5,
      "outputs": [
        {
          "output_type": "execute_result",
          "data": {
            "text/plain": [
              "False"
            ]
          },
          "metadata": {},
          "execution_count": 5
        }
      ]
    },
    {
      "cell_type": "code",
      "source": [
        "a=2  #Asignacion\n",
        "a<5  #2 menor que 5?"
      ],
      "metadata": {
        "colab": {
          "base_uri": "https://localhost:8080/"
        },
        "id": "cw_pAV1anhxW",
        "outputId": "eac69ff8-a676-41f0-8560-6ac16a988b36"
      },
      "execution_count": 6,
      "outputs": [
        {
          "output_type": "execute_result",
          "data": {
            "text/plain": [
              "True"
            ]
          },
          "metadata": {},
          "execution_count": 6
        }
      ]
    },
    {
      "cell_type": "code",
      "source": [
        "a=3\n",
        "a!=7    #No es igual a 7?"
      ],
      "metadata": {
        "colab": {
          "base_uri": "https://localhost:8080/"
        },
        "id": "8Nld2_CkndLu",
        "outputId": "1359aa68-a81a-4b1f-80f0-4c7a8f7caef7"
      },
      "execution_count": 8,
      "outputs": [
        {
          "output_type": "execute_result",
          "data": {
            "text/plain": [
              "True"
            ]
          },
          "metadata": {},
          "execution_count": 8
        }
      ]
    },
    {
      "cell_type": "code",
      "source": [
        "a=7\n",
        "a!=7    #No es igual a 7?"
      ],
      "metadata": {
        "colab": {
          "base_uri": "https://localhost:8080/"
        },
        "id": "r06empHZns8w",
        "outputId": "dd30b4d2-6900-4f82-c492-f756374e719f"
      },
      "execution_count": 9,
      "outputs": [
        {
          "output_type": "execute_result",
          "data": {
            "text/plain": [
              "False"
            ]
          },
          "metadata": {},
          "execution_count": 9
        }
      ]
    },
    {
      "cell_type": "code",
      "source": [
        "\"ACDC\" == \"Michael\"   #Comparacion de cadena"
      ],
      "metadata": {
        "colab": {
          "base_uri": "https://localhost:8080/"
        },
        "id": "NTq1GFoIn1sv",
        "outputId": "b5cf145a-2396-4a33-c803-02870cb959b2"
      },
      "execution_count": 11,
      "outputs": [
        {
          "output_type": "execute_result",
          "data": {
            "text/plain": [
              "False"
            ]
          },
          "metadata": {},
          "execution_count": 11
        }
      ]
    },
    {
      "cell_type": "code",
      "source": [
        "age = 18             #Si es mayor de 18 puede pasar\n",
        "if age > 18:\n",
        "  print(\"Puedes pasar\")\n",
        "print(\"Avanza\")"
      ],
      "metadata": {
        "colab": {
          "base_uri": "https://localhost:8080/"
        },
        "id": "dyPueoT0nwMu",
        "outputId": "373c44bd-3ce4-4390-d878-b5b34fdca399"
      },
      "execution_count": 17,
      "outputs": [
        {
          "output_type": "stream",
          "name": "stdout",
          "text": [
            "Avanza\n"
          ]
        }
      ]
    },
    {
      "cell_type": "code",
      "source": [
        "age1 = 22             #Si es mayor de 18 puede pasar\n",
        "if age1 > 18:\n",
        "  print(\"Puedes pasar\")\n",
        "print(\"Avanza\")"
      ],
      "metadata": {
        "colab": {
          "base_uri": "https://localhost:8080/"
        },
        "id": "IiuIGxIjoVSW",
        "outputId": "ff7b1a12-1ea6-416a-99c3-35e6fe56a4ad"
      },
      "execution_count": 18,
      "outputs": [
        {
          "output_type": "stream",
          "name": "stdout",
          "text": [
            "Puedes pasar\n",
            "Avanza\n"
          ]
        }
      ]
    },
    {
      "cell_type": "code",
      "source": [
        "age2 = 22             #Si es mayor de 18 puede pasar\n",
        "if age2 > 18:\n",
        "  print(\"Puedes pasar\")\n",
        "else:\n",
        "  print(\"Ve a ver meat loaf\")"
      ],
      "metadata": {
        "colab": {
          "base_uri": "https://localhost:8080/"
        },
        "id": "9KQnbIvSovNu",
        "outputId": "d32af357-17e1-47ae-b6c5-7845ae1e1655"
      },
      "execution_count": 21,
      "outputs": [
        {
          "output_type": "stream",
          "name": "stdout",
          "text": [
            "Puedes pasar\n"
          ]
        }
      ]
    },
    {
      "cell_type": "code",
      "source": [
        "age2 = 11             #Si es mayor de 18 puede pasar\n",
        "if age2 > 18:\n",
        "  print(\"Puedes pasar\")\n",
        "else:\n",
        "  print(\"Ve a ver meat loaf\")"
      ],
      "metadata": {
        "colab": {
          "base_uri": "https://localhost:8080/"
        },
        "id": "aAqpl6K0pIJH",
        "outputId": "1fe06692-a722-40c0-8fee-fa7a3a77999b"
      },
      "execution_count": 22,
      "outputs": [
        {
          "output_type": "stream",
          "name": "stdout",
          "text": [
            "Ve a ver meat loaf\n"
          ]
        }
      ]
    },
    {
      "cell_type": "code",
      "source": [
        "age4 = 20\n",
        "\n",
        "if age4 > 18:\n",
        "  print(\"puedes pasar\")\n",
        "elif(age4 == 18):                                #ELIF (IF ELSE) sirve para agregar otra condicion dentro del if Si este primero no es verdadero\n",
        "  print(\"Ve a ver a pink floyd\")\n",
        "else:\n",
        "  print(\"Ve a ver Meat loaf\")\n",
        "\n",
        "print(\"Avanza\")"
      ],
      "metadata": {
        "colab": {
          "base_uri": "https://localhost:8080/"
        },
        "id": "VWk7pOlapUzO",
        "outputId": "b374ed54-5412-408c-c803-e3fcf26b4db8"
      },
      "execution_count": 28,
      "outputs": [
        {
          "output_type": "stream",
          "name": "stdout",
          "text": [
            "puedes pasar\n",
            "Avanza\n"
          ]
        }
      ]
    },
    {
      "cell_type": "code",
      "source": [
        "age4 = 18\n",
        "\n",
        "if age4 > 18:\n",
        "  print(\"puedes pasar\")\n",
        "elif(age4 == 18):\n",
        "  print(\"Ve a ver a pink floyd\")\n",
        "else:\n",
        "  print(\"Ve a ver Meat loaf\")\n",
        "\n",
        "print(\"Avanza\")"
      ],
      "metadata": {
        "colab": {
          "base_uri": "https://localhost:8080/"
        },
        "id": "BjDSGexKp7J-",
        "outputId": "2573b887-218f-41e3-ea1c-0665147f9079"
      },
      "execution_count": 29,
      "outputs": [
        {
          "output_type": "stream",
          "name": "stdout",
          "text": [
            "Ve a ver a pink floyd\n",
            "Avanza\n"
          ]
        }
      ]
    },
    {
      "cell_type": "code",
      "source": [
        "not(True) #False Invierte el resultado"
      ],
      "metadata": {
        "colab": {
          "base_uri": "https://localhost:8080/"
        },
        "id": "VCbnn7vaqA4X",
        "outputId": "e06f3c6d-4904-42a9-d8ca-66db2ab258f9"
      },
      "execution_count": 31,
      "outputs": [
        {
          "output_type": "execute_result",
          "data": {
            "text/plain": [
              "False"
            ]
          },
          "metadata": {},
          "execution_count": 31
        }
      ]
    },
    {
      "cell_type": "code",
      "source": [
        "not(False) #True Invierte el resultado"
      ],
      "metadata": {
        "colab": {
          "base_uri": "https://localhost:8080/"
        },
        "id": "qJHSDD8uqJm3",
        "outputId": "796d7bae-0252-476e-f903-fb4ac8bfcb35"
      },
      "execution_count": 32,
      "outputs": [
        {
          "output_type": "execute_result",
          "data": {
            "text/plain": [
              "True"
            ]
          },
          "metadata": {},
          "execution_count": 32
        }
      ]
    },
    {
      "cell_type": "code",
      "source": [
        "\n",
        "album_year = 1990\n",
        "if(album_year < 1980) or (album_year > 1989):            #El operador OR requiere de solo un elemento verdadero para que el resultado sea verdadero\n",
        "  print(\"The album was made in the 70's or 90's\")\n",
        "else:\n",
        "  print(\"The album was made in the 1980's\")"
      ],
      "metadata": {
        "colab": {
          "base_uri": "https://localhost:8080/"
        },
        "id": "oZjKYvBaqNRm",
        "outputId": "41c6673e-07e9-4547-b63a-540fca65a8f4"
      },
      "execution_count": 33,
      "outputs": [
        {
          "output_type": "stream",
          "name": "stdout",
          "text": [
            "The album was made in the 70's or 90's\n"
          ]
        }
      ]
    },
    {
      "cell_type": "code",
      "source": [
        "\n",
        "album_year = 1988\n",
        "if(album_year < 1980) or (album_year > 1989):          #El operador OR requiere de solo un elemento verdadero para que el resultado sea verdadero\n",
        "  print(\"The album was made in the 70's or 90's\")\n",
        "else:\n",
        "  print(\"The album was made in the 1980's\")"
      ],
      "metadata": {
        "colab": {
          "base_uri": "https://localhost:8080/"
        },
        "id": "10zP6jXTqlOf",
        "outputId": "9ad7f028-8c95-4312-f29e-83dae291b0c2"
      },
      "execution_count": 34,
      "outputs": [
        {
          "output_type": "stream",
          "name": "stdout",
          "text": [
            "The album was made in the 1980's\n"
          ]
        }
      ]
    },
    {
      "cell_type": "code",
      "source": [
        "album_year = 1984\n",
        "if(album_year > 1979) and (album_year < 1990):        #El operador AND requiere que todas las variables condicionadas sean verdaderas para regresar un valor verdadero    \n",
        "  print(\"The album was made in the 80's\")\n",
        "else:\n",
        "  print(\"The album was made before 80's or after 90's\")"
      ],
      "metadata": {
        "colab": {
          "base_uri": "https://localhost:8080/"
        },
        "id": "1zFYuw6drGjX",
        "outputId": "df9dde65-d642-42ed-d6c3-d6a24ff866a9"
      },
      "execution_count": 35,
      "outputs": [
        {
          "output_type": "stream",
          "name": "stdout",
          "text": [
            "The album was made in the 80's\n"
          ]
        }
      ]
    },
    {
      "cell_type": "markdown",
      "source": [
        "LOOPS\n"
      ],
      "metadata": {
        "id": "MrtY-jvEshud"
      }
    },
    {
      "cell_type": "code",
      "source": [
        "range(10,15) #Entrega una secuencia ordenada en lista"
      ],
      "metadata": {
        "colab": {
          "base_uri": "https://localhost:8080/"
        },
        "id": "doWw-jOzskW2",
        "outputId": "c93a6b34-18d5-4b1a-8670-6bc7d915fd1f"
      },
      "execution_count": 37,
      "outputs": [
        {
          "output_type": "execute_result",
          "data": {
            "text/plain": [
              "range(10, 15)"
            ]
          },
          "metadata": {},
          "execution_count": 37
        }
      ]
    },
    {
      "cell_type": "code",
      "source": [
        "squares = [\"red\",\"yellow\",\"green\",\"purple\",\"blue\"]  #El ciclo se ejecutara cambiando los valores de cada uno de los colores a Blanco uno por uno\n",
        "print(squares)  \n",
        "for i in range(0,5):                                #El rango es de 0 a 5\n",
        "  squares[i]=\"white\"\n",
        "  print(squares)"
      ],
      "metadata": {
        "colab": {
          "base_uri": "https://localhost:8080/"
        },
        "id": "i1GTlTmJs5I9",
        "outputId": "f71c0a0f-ad91-48d5-8f9e-888b0bfa4753"
      },
      "execution_count": 39,
      "outputs": [
        {
          "output_type": "stream",
          "name": "stdout",
          "text": [
            "['red', 'yellow', 'green', 'purple', 'blue']\n",
            "['white', 'yellow', 'green', 'purple', 'blue']\n",
            "['white', 'white', 'green', 'purple', 'blue']\n",
            "['white', 'white', 'white', 'purple', 'blue']\n",
            "['white', 'white', 'white', 'white', 'blue']\n",
            "['white', 'white', 'white', 'white', 'white']\n"
          ]
        }
      ]
    },
    {
      "cell_type": "code",
      "source": [
        "squares = [\"red\",\"yellow\",\"green\"]\n",
        "for i, square in enumerate(squares):                     #Se mostrara el color y su enumeracion en el ciclo\n",
        "  square\n",
        "  i\n",
        "  print(i)\n",
        "  print(square)"
      ],
      "metadata": {
        "colab": {
          "base_uri": "https://localhost:8080/"
        },
        "id": "YNtDnO6xtS8W",
        "outputId": "a8110569-ed06-4225-f7ab-97db4fa13489"
      },
      "execution_count": 42,
      "outputs": [
        {
          "output_type": "stream",
          "name": "stdout",
          "text": [
            "0\n",
            "red\n",
            "1\n",
            "yellow\n",
            "2\n",
            "green\n"
          ]
        }
      ]
    },
    {
      "cell_type": "code",
      "source": [
        "squares = [\"orange\",\"orange\",\"purple\",\"blue\"]\n",
        "newSquares = []\n",
        "i = 0\n",
        "while(squares[i]=='orange'):                              #El ciclo se ejecutara hasta que se deje de cumplir la condicion por lo cual solo se imprime los orange\n",
        "  newSquares.append(squares[i])\n",
        "  i+=1\n",
        "\n",
        "print(newSquares)"
      ],
      "metadata": {
        "colab": {
          "base_uri": "https://localhost:8080/"
        },
        "id": "-qTgzORluEol",
        "outputId": "de2b6da1-c7b0-4636-a8dd-7a361e41895b"
      },
      "execution_count": 45,
      "outputs": [
        {
          "output_type": "stream",
          "name": "stdout",
          "text": [
            "['orange', 'orange']\n"
          ]
        }
      ]
    },
    {
      "cell_type": "code",
      "source": [
        "squares = [\"orange\",\"purple\",\"blue\"]\n",
        "newSquares = []\n",
        "i = 0\n",
        "while(squares[i]=='orange'):                              #El ciclo se ejecutara hasta que se deje de cumplir la condicion por lo cual solo se imprime los orange\n",
        "  newSquares.append(squares[i])\n",
        "  i+=1\n",
        "\n",
        "print(newSquares)"
      ],
      "metadata": {
        "colab": {
          "base_uri": "https://localhost:8080/"
        },
        "id": "H8N6QGoPu8--",
        "outputId": "bae7a29b-7276-4b3e-b3a9-83897171b2cd"
      },
      "execution_count": 46,
      "outputs": [
        {
          "output_type": "stream",
          "name": "stdout",
          "text": [
            "['orange']\n"
          ]
        }
      ]
    },
    {
      "cell_type": "markdown",
      "source": [
        "FUNCTIONS"
      ],
      "metadata": {
        "id": "8IVT5ZmsuyWN"
      }
    },
    {
      "cell_type": "code",
      "source": [],
      "metadata": {
        "id": "VvgiLgDIu2vW"
      },
      "execution_count": null,
      "outputs": []
    },
    {
      "cell_type": "code",
      "source": [
        "Album_Ratings=[10,8,9,7,9,8,7,9]\n",
        "L=len(Album_Ratings) #Para determinar la longitud \n",
        "print(L)"
      ],
      "metadata": {
        "colab": {
          "base_uri": "https://localhost:8080/"
        },
        "id": "2-JCtSvDwSlW",
        "outputId": "a97385b5-c26d-45ca-f4b6-e2157f4377ca"
      },
      "execution_count": 50,
      "outputs": [
        {
          "output_type": "stream",
          "name": "stdout",
          "text": [
            "8\n"
          ]
        }
      ]
    },
    {
      "cell_type": "code",
      "source": [
        "S=sum(Album_Ratings) #Regresa la suma de los elementos\n",
        "print(S)"
      ],
      "metadata": {
        "colab": {
          "base_uri": "https://localhost:8080/"
        },
        "id": "k3EnkOKIwoYN",
        "outputId": "d300c0e4-4b15-4298-c50c-30478521c682"
      },
      "execution_count": 53,
      "outputs": [
        {
          "output_type": "stream",
          "name": "stdout",
          "text": [
            "67\n"
          ]
        }
      ]
    },
    {
      "cell_type": "code",
      "source": [
        "Sortes_album=sorted(Album_Ratings) #Ordena los elementos\n",
        "print(Sortes_album)"
      ],
      "metadata": {
        "colab": {
          "base_uri": "https://localhost:8080/"
        },
        "id": "o7Bled1Hw7Mm",
        "outputId": "eb38e3df-027c-4f37-ed98-26245acaf139"
      },
      "execution_count": 55,
      "outputs": [
        {
          "output_type": "stream",
          "name": "stdout",
          "text": [
            "[7, 7, 8, 8, 9, 9, 9, 10]\n"
          ]
        }
      ]
    },
    {
      "cell_type": "code",
      "source": [
        "Album_Ratings.sort() #Ordena los elementos en la misma variable\n",
        "print(Album_Ratings)"
      ],
      "metadata": {
        "colab": {
          "base_uri": "https://localhost:8080/"
        },
        "id": "N1fPHzmCxIT2",
        "outputId": "116b1010-d7ab-4f97-809d-051409f3149c"
      },
      "execution_count": 62,
      "outputs": [
        {
          "output_type": "stream",
          "name": "stdout",
          "text": [
            "[7, 7, 8, 8, 9, 9, 9, 10]\n"
          ]
        }
      ]
    },
    {
      "cell_type": "code",
      "source": [
        "def add1(a):    #Se define la funcion add\n",
        "\n",
        "  b = a + 1     #el parametro de entrada se le suma 1\n",
        "  return b      #Retorna el valor de operacion\n",
        "      \n",
        "c=add1(10)      #C toma el valor de retorno de la funcion\n",
        "\n",
        "print(c)"
      ],
      "metadata": {
        "colab": {
          "base_uri": "https://localhost:8080/"
        },
        "id": "HbHpPMY6xnrE",
        "outputId": "5adba400-415c-44bd-edbb-e77f7a5339e3"
      },
      "execution_count": 70,
      "outputs": [
        {
          "output_type": "stream",
          "name": "stdout",
          "text": [
            "11\n"
          ]
        }
      ]
    },
    {
      "cell_type": "code",
      "source": [
        "def add1(a):    #Se define la funcion add\n",
        "\n",
        "  b = a + 1     #el parametro de entrada se le suma 1\n",
        "  return b      #Retorna el valor de operacion\n",
        "      \n",
        "c=add1(6)       #C toma el valor de retorno de la funcion\n",
        "\n",
        "print(c)"
      ],
      "metadata": {
        "colab": {
          "base_uri": "https://localhost:8080/"
        },
        "id": "lrvJP4AJyX0O",
        "outputId": "a29fd7f8-7f2f-402b-b91c-1e40865babac"
      },
      "execution_count": 71,
      "outputs": [
        {
          "output_type": "stream",
          "name": "stdout",
          "text": [
            "7\n"
          ]
        }
      ]
    },
    {
      "cell_type": "code",
      "source": [
        "def mul1(a):    #Se define la funcion add\n",
        "\n",
        "  b = a * 2     #el parametro de entrada se multiplica por 2\n",
        "  return b      #Retorna el valor de operacion\n",
        "      \n",
        "c=mul1(6)       #C toma el valor de retorno de la funcion\n",
        "\n",
        "print(c)"
      ],
      "metadata": {
        "colab": {
          "base_uri": "https://localhost:8080/"
        },
        "id": "8clBsypMyfTt",
        "outputId": "e35f25b3-3c49-4fe9-e707-2f4d6ef7abda"
      },
      "execution_count": 72,
      "outputs": [
        {
          "output_type": "stream",
          "name": "stdout",
          "text": [
            "12\n"
          ]
        }
      ]
    },
    {
      "cell_type": "code",
      "source": [
        "def mul1(a):    #Se define la funcion add\n",
        "\n",
        "  b = a * 2     #el parametro de entrada se multiplica por 2\n",
        "  return b      #Retorna el valor de operacion\n",
        "      \n",
        "c=mul1(33)     #C toma el valor de retorno de la funcion\n",
        "\n",
        "print(c)"
      ],
      "metadata": {
        "colab": {
          "base_uri": "https://localhost:8080/"
        },
        "id": "GxqbTUY5ytav",
        "outputId": "f2932e77-311d-4cfb-9de4-13d85897c5b5"
      },
      "execution_count": 73,
      "outputs": [
        {
          "output_type": "stream",
          "name": "stdout",
          "text": [
            "66\n"
          ]
        }
      ]
    },
    {
      "cell_type": "code",
      "source": [
        "#Multiples parametros de entrada\n",
        "\n",
        "\n",
        "def mult2(a,b):\n",
        "  c = a * b\n",
        "  return c\n",
        "\n",
        "x=mult2(33, 44)     #C toma el valor de retorno de la funcion\n",
        "\n",
        "print(x)"
      ],
      "metadata": {
        "colab": {
          "base_uri": "https://localhost:8080/"
        },
        "id": "0zsowdkxzAK9",
        "outputId": "e75f4916-17ef-49cb-ef72-6b45967a4966"
      },
      "execution_count": 76,
      "outputs": [
        {
          "output_type": "stream",
          "name": "stdout",
          "text": [
            "1452\n"
          ]
        }
      ]
    },
    {
      "cell_type": "code",
      "source": [
        "#Multiples parametros de entrada\n",
        "\n",
        "\n",
        "def mult2(a,b):\n",
        "  c = a * b\n",
        "  return c\n",
        "\n",
        "x=mult2(4, 8)     #C toma el valor de retorno de la funcion\n",
        "\n",
        "print(x)"
      ],
      "metadata": {
        "colab": {
          "base_uri": "https://localhost:8080/"
        },
        "id": "Wm0T5eCdzevu",
        "outputId": "487fb9c6-1eff-4f01-8da6-7938e237fee4"
      },
      "execution_count": 77,
      "outputs": [
        {
          "output_type": "stream",
          "name": "stdout",
          "text": [
            "32\n"
          ]
        }
      ]
    },
    {
      "cell_type": "code",
      "source": [
        "#Multiples parametros de entrada\n",
        "\n",
        "\n",
        "def mult2(a,b):\n",
        "  c = a * b\n",
        "  return c\n",
        "\n",
        "x=mult2(4, \"Michael\")     #C toma el valor de retorno de la funcion\n",
        "\n",
        "print(x)"
      ],
      "metadata": {
        "colab": {
          "base_uri": "https://localhost:8080/"
        },
        "id": "-huhw0BRznUl",
        "outputId": "829fc353-c613-4944-cd33-52ff73063c44"
      },
      "execution_count": 78,
      "outputs": [
        {
          "output_type": "stream",
          "name": "stdout",
          "text": [
            "MichaelMichaelMichaelMichael\n"
          ]
        }
      ]
    },
    {
      "cell_type": "code",
      "source": [
        "#loops in functions\n",
        "# we can use loops to generate looping actions without being rewrinting the same loop everytime we need them\n",
        "def printStuff(stuff):\n",
        "  \"\"\"\n",
        "  Will be printing the rating value for every album indexed\n",
        "  \"\"\"\n",
        "  for i,s in enumerate(stuff):\n",
        "    print(\"Album\", i, \"Rating is \", s)\n",
        "\n",
        "album_ratings = (10.0,8.5,9.5)\n",
        "printStuff(album_ratings)"
      ],
      "metadata": {
        "id": "wDaSpi6hzrHN"
      },
      "execution_count": null,
      "outputs": []
    },
    {
      "cell_type": "code",
      "source": [
        "def MJ():                              #Funcion sin parametros de entrada\n",
        "   print(\"Michael Jackson\")\n",
        "\n",
        "MJ()"
      ],
      "metadata": {
        "colab": {
          "base_uri": "https://localhost:8080/"
        },
        "id": "k_VxxRruz3JF",
        "outputId": "012b7374-f9a6-42f6-ec22-53e4c4638e69"
      },
      "execution_count": 80,
      "outputs": [
        {
          "output_type": "stream",
          "name": "stdout",
          "text": [
            "Michael Jackson\n"
          ]
        }
      ]
    },
    {
      "cell_type": "code",
      "source": [
        "def noWork():\n",
        "  pass         \n",
        "print(noWork())                 #Regresa un None "
      ],
      "metadata": {
        "colab": {
          "base_uri": "https://localhost:8080/"
        },
        "id": "5-2wGdYO0JhF",
        "outputId": "d23182f4-915c-4df8-939b-8cf7827261ad"
      },
      "execution_count": 81,
      "outputs": [
        {
          "output_type": "stream",
          "name": "stdout",
          "text": [
            "None\n"
          ]
        }
      ]
    },
    {
      "cell_type": "code",
      "source": [
        "def printStuff(stuff):                               #Es posible encontrar ciclos dentro de funciones \n",
        "\n",
        "  for i,s in enumerate(stuff):\n",
        "    print(\"Album\", i, \"Rating is \", s)\n",
        "\n",
        "album_ratings = (10.0,8.5,9.5)\n",
        "printStuff(album_ratings)"
      ],
      "metadata": {
        "colab": {
          "base_uri": "https://localhost:8080/"
        },
        "id": "f-xls6MT0X1G",
        "outputId": "559c57ad-a36b-4509-a023-fe88114f6557"
      },
      "execution_count": 83,
      "outputs": [
        {
          "output_type": "stream",
          "name": "stdout",
          "text": [
            "Album 0 Rating is  10.0\n",
            "Album 1 Rating is  8.5\n",
            "Album 2 Rating is  9.5\n"
          ]
        }
      ]
    },
    {
      "cell_type": "code",
      "source": [
        "def ArtistNames(*names):                           #Se imprimen los valores contenidos en la tupla\n",
        "\n",
        "  for name in names:\n",
        "    print(name)\n",
        "\n",
        "ArtistNames(\"Michael Jackson\", \"AC/DC\")"
      ],
      "metadata": {
        "colab": {
          "base_uri": "https://localhost:8080/"
        },
        "id": "mRDYCtmf0ydV",
        "outputId": "1f4540a8-c215-4f10-f649-021e19fa4dd4"
      },
      "execution_count": 86,
      "outputs": [
        {
          "output_type": "stream",
          "name": "stdout",
          "text": [
            "Michael Jackson\n",
            "AC/DC\n"
          ]
        }
      ]
    },
    {
      "cell_type": "code",
      "source": [
        "def AddDC(x):\n",
        "  x=x+\"DC\"\n",
        "  print(x)\n",
        "  return(x)\n",
        "\n",
        "  x=\"AC\"\n",
        "  z=AddDC(x)\n",
        "  \n",
        "  print(z)"
      ],
      "metadata": {
        "id": "XBxNpEIf2iLW"
      },
      "execution_count": 98,
      "outputs": []
    },
    {
      "cell_type": "code",
      "source": [
        "def Thriller():                            #Variables Locales : solo estan dentro del scope de la funcion, fuera de este hace referencia a otra variable\n",
        "  Date = 1982        \n",
        "  return Date\n",
        "\n",
        "Date = 2017\n",
        "print(Thriller()) \n",
        "print(Date) "
      ],
      "metadata": {
        "colab": {
          "base_uri": "https://localhost:8080/"
        },
        "id": "DR3gepOB4CSE",
        "outputId": "974dacc4-2ed4-4f75-bb10-5b2fbdc93442"
      },
      "execution_count": 99,
      "outputs": [
        {
          "output_type": "stream",
          "name": "stdout",
          "text": [
            "1982\n",
            "2017\n"
          ]
        }
      ]
    },
    {
      "cell_type": "code",
      "source": [
        "def ACDC(y):                               #Python busca la variable como global si esta no la encuentra en la funcion\n",
        "  print(Rating)\n",
        "  return(Rating+y)\n",
        "\n",
        "Rating = 9\n",
        "Z=ACDC(1)\n",
        "\n",
        "print(Rating)\n",
        "\n",
        "print(Z)\n"
      ],
      "metadata": {
        "colab": {
          "base_uri": "https://localhost:8080/"
        },
        "id": "9z-JUyjx4a-l",
        "outputId": "5b619676-3c02-42f8-cdf7-d619b0ed71aa"
      },
      "execution_count": 101,
      "outputs": [
        {
          "output_type": "stream",
          "name": "stdout",
          "text": [
            "9\n",
            "9\n",
            "10\n"
          ]
        }
      ]
    },
    {
      "cell_type": "code",
      "source": [
        "def PinkFloyd():                              #Se declara una variable dentro de la funcion como global, dandonos acceso a esta variable desde fuera de la funcion\n",
        "  global ClaimedSales\n",
        "  ClaimedSales = '45 Millions'\n",
        "  return ClaimedSales\n",
        "\n",
        "print(PinkFloyd()) \n",
        "print(ClaimedSales) "
      ],
      "metadata": {
        "colab": {
          "base_uri": "https://localhost:8080/"
        },
        "id": "Tk01U9R75AwU",
        "outputId": "de2d4160-0748-46e9-b021-4c19daa12cc8"
      },
      "execution_count": 104,
      "outputs": [
        {
          "output_type": "stream",
          "name": "stdout",
          "text": [
            "45 Millions\n",
            "45 Millions\n"
          ]
        }
      ]
    },
    {
      "cell_type": "code",
      "source": [
        "def f(*x):\n",
        "\n",
        "  return sum(x)\n",
        "print(f(5,6,7))"
      ],
      "metadata": {
        "colab": {
          "base_uri": "https://localhost:8080/"
        },
        "id": "uyX0I8ZX5srV",
        "outputId": "caa78b4b-04da-4d88-e7c4-60cd332fab3d"
      },
      "execution_count": 105,
      "outputs": [
        {
          "output_type": "stream",
          "name": "stdout",
          "text": [
            "18\n"
          ]
        }
      ]
    },
    {
      "cell_type": "markdown",
      "source": [
        "OBJECT AND CLASSES:\n",
        "\n",
        "un objeto es una instancia de un tipo particular\n",
        "\n",
        "Un metodo es una funcion que la clase o tipo provee"
      ],
      "metadata": {
        "id": "rmDbkagz59FF"
      }
    },
    {
      "cell_type": "code",
      "source": [
        "Ratings = [10,9,6,5,10,8,9,6,2]    #Sort es el metodo y rating es el objeto\n",
        "Ratings.sort()"
      ],
      "metadata": {
        "id": "sJKVcnfB6H3V"
      },
      "execution_count": 106,
      "outputs": []
    },
    {
      "cell_type": "code",
      "source": [
        "class Circle:                          # DefinicionClase\n",
        "  radius,color=0,\"\"\n",
        "  def __init__(self, radius, color):   #Constructor es una funcion especial para decirle a python que estas haciendo una nueva clase\n",
        "    self.radius = radius;              #Atributos\n",
        "    self.color = color;                #Inizializacion\n",
        "\n",
        "  def add_radius(self,r):              #Modifica radio\n",
        "    self.radius = self.radius + r\n",
        "    return (self.radius) \n",
        "\n",
        "  def drawCircle(self):\n",
        "    print(self.radius, \",\", self.color) #Imprime los parametros del circulo\n",
        "\n",
        "\n",
        "C1 = Circle(10, 'red')  #Creacion de objeto R=10 y es rojo\n",
        "C1.drawCircle()\n",
        "\n",
        "C1.add_radius(5)        #Modificamos radio\n",
        "C1.drawCircle()\n",
        "\n",
        "\n",
        "\n",
        "class Rectangle(object ):\n",
        "  def __init__(self, color, height, width):   #Contructor\n",
        "    self.color = color;\n",
        "    self.height = height;                    #Atributos\n",
        "    self.width = width;\n",
        "\n",
        "\n",
        "rectangle = Rectangle(3, 2, 'blue')\n"
      ],
      "metadata": {
        "colab": {
          "base_uri": "https://localhost:8080/"
        },
        "id": "I5XvGo5P6lb0",
        "outputId": "618cf99f-9342-4427-bf52-2ee762d23869"
      },
      "execution_count": 112,
      "outputs": [
        {
          "output_type": "stream",
          "name": "stdout",
          "text": [
            "10 , red\n",
            "15 , red\n"
          ]
        }
      ]
    },
    {
      "cell_type": "code",
      "source": [
        "C2 = Circle(2, 'blue')  #Creacion de objeto R=10 y es rojo\n",
        "C2.drawCircle()\n",
        "\n",
        "C2.add_radius(1)        #Modificamos radio\n",
        "C2.drawCircle()\n"
      ],
      "metadata": {
        "colab": {
          "base_uri": "https://localhost:8080/"
        },
        "id": "u3WLbsMh8q7M",
        "outputId": "f628a2cf-2d53-4ed6-d2ed-f0326e63e728"
      },
      "execution_count": 110,
      "outputs": [
        {
          "output_type": "stream",
          "name": "stdout",
          "text": [
            "2 , blue\n",
            "3 , blue\n"
          ]
        }
      ]
    },
    {
      "cell_type": "code",
      "source": [
        "A = ['1', '2', '3']\n",
        "\n",
        "for a in A:\n",
        "       print(2*a)"
      ],
      "metadata": {
        "colab": {
          "base_uri": "https://localhost:8080/"
        },
        "id": "teqiMa4SBYZk",
        "outputId": "637ed842-fb29-496f-a36d-f62acb554b7c"
      },
      "execution_count": 111,
      "outputs": [
        {
          "output_type": "stream",
          "name": "stdout",
          "text": [
            "11\n",
            "22\n",
            "33\n"
          ]
        }
      ]
    }
  ]
}