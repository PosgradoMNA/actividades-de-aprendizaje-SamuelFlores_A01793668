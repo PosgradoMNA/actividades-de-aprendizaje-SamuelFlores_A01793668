{
  "nbformat": 4,
  "nbformat_minor": 0,
  "metadata": {
    "colab": {
      "provenance": [],
      "collapsed_sections": []
    },
    "kernelspec": {
      "name": "python3",
      "display_name": "Python 3"
    },
    "language_info": {
      "name": "python"
    }
  },
  "cells": [
    {
      "cell_type": "markdown",
      "source": [
        "# **Practica 1**"
      ],
      "metadata": {
        "id": "66x6bysm6CgM"
      }
    },
    {
      "cell_type": "code",
      "execution_count": 1,
      "metadata": {
        "colab": {
          "base_uri": "https://localhost:8080/"
        },
        "id": "xIYr7B0u3SMA",
        "outputId": "8aa53d6d-637b-4b59-9791-db1be7dd8c80"
      },
      "outputs": [
        {
          "output_type": "stream",
          "name": "stdout",
          "text": [
            "Hello Python 101\n"
          ]
        }
      ],
      "source": [
        "print(\"Hello Python 101\") #Imprimir texto"
      ]
    },
    {
      "cell_type": "code",
      "source": [
        "frint(\"Hello Python 101\") #Funcion de imprimir mal escrito"
      ],
      "metadata": {
        "colab": {
          "base_uri": "https://localhost:8080/",
          "height": 165
        },
        "id": "wetdS9SF4a19",
        "outputId": "c40a9205-80bb-46d1-bff6-ef87f35dbc48"
      },
      "execution_count": 2,
      "outputs": [
        {
          "output_type": "error",
          "ename": "NameError",
          "evalue": "ignored",
          "traceback": [
            "\u001b[0;31m---------------------------------------------------------------------------\u001b[0m",
            "\u001b[0;31mNameError\u001b[0m                                 Traceback (most recent call last)",
            "\u001b[0;32m<ipython-input-2-9662054ab1db>\u001b[0m in \u001b[0;36m<module>\u001b[0;34m\u001b[0m\n\u001b[0;32m----> 1\u001b[0;31m \u001b[0mfrint\u001b[0m\u001b[0;34m(\u001b[0m\u001b[0;34m\"Hello Python 101\"\u001b[0m\u001b[0;34m)\u001b[0m \u001b[0;31m#Funcion de imprimir mal escrito\u001b[0m\u001b[0;34m\u001b[0m\u001b[0;34m\u001b[0m\u001b[0m\n\u001b[0m",
            "\u001b[0;31mNameError\u001b[0m: name 'frint' is not defined"
          ]
        }
      ]
    },
    {
      "cell_type": "code",
      "source": [
        "print('Hola Mundo')"
      ],
      "metadata": {
        "colab": {
          "base_uri": "https://localhost:8080/"
        },
        "id": "AgnuNZyKLs_0",
        "outputId": "b0ea1037-6d8a-446b-aa9f-141f9b3c84b4"
      },
      "execution_count": 53,
      "outputs": [
        {
          "output_type": "stream",
          "name": "stdout",
          "text": [
            "Hola Mundo\n"
          ]
        }
      ]
    },
    {
      "cell_type": "code",
      "source": [
        "print ('A01793668')"
      ],
      "metadata": {
        "colab": {
          "base_uri": "https://localhost:8080/"
        },
        "id": "pZ8WLDecLyRU",
        "outputId": "608d70e0-ba9d-482b-bcca-1e69bfe76699"
      },
      "execution_count": 54,
      "outputs": [
        {
          "output_type": "stream",
          "name": "stdout",
          "text": [
            "A01793668\n"
          ]
        }
      ]
    },
    {
      "cell_type": "markdown",
      "source": [
        "# **Practica 2**"
      ],
      "metadata": {
        "id": "57zh4DgK59e8"
      }
    },
    {
      "cell_type": "code",
      "source": [
        "float(2) #Convertir de entero a flotante"
      ],
      "metadata": {
        "colab": {
          "base_uri": "https://localhost:8080/"
        },
        "id": "ZH385tQn45sn",
        "outputId": "46c48634-73ff-4ba7-cba9-fa39174eac78"
      },
      "execution_count": 3,
      "outputs": [
        {
          "output_type": "execute_result",
          "data": {
            "text/plain": [
              "2.0"
            ]
          },
          "metadata": {},
          "execution_count": 3
        }
      ]
    },
    {
      "cell_type": "code",
      "source": [
        "int(1.1) #Conservar el entero"
      ],
      "metadata": {
        "colab": {
          "base_uri": "https://localhost:8080/"
        },
        "id": "rgAnTkhp4713",
        "outputId": "4b34eda8-e742-4f98-d25f-3a7f87e1f2c1"
      },
      "execution_count": 4,
      "outputs": [
        {
          "output_type": "execute_result",
          "data": {
            "text/plain": [
              "1"
            ]
          },
          "metadata": {},
          "execution_count": 4
        }
      ]
    },
    {
      "cell_type": "code",
      "source": [
        "int('1') #Entero a Cadena"
      ],
      "metadata": {
        "colab": {
          "base_uri": "https://localhost:8080/"
        },
        "id": "e2JgbtK44-nd",
        "outputId": "007f8a18-da72-4d98-9026-32885038b3e1"
      },
      "execution_count": 6,
      "outputs": [
        {
          "output_type": "execute_result",
          "data": {
            "text/plain": [
              "1"
            ]
          },
          "metadata": {},
          "execution_count": 6
        }
      ]
    },
    {
      "cell_type": "code",
      "source": [
        "int(3.1416)"
      ],
      "metadata": {
        "colab": {
          "base_uri": "https://localhost:8080/"
        },
        "id": "2qLaHPEAL3yM",
        "outputId": "ae75f0de-6f0a-4981-f510-8952e51efe6f"
      },
      "execution_count": 55,
      "outputs": [
        {
          "output_type": "execute_result",
          "data": {
            "text/plain": [
              "3"
            ]
          },
          "metadata": {},
          "execution_count": 55
        }
      ]
    },
    {
      "cell_type": "code",
      "source": [
        "int('A') #Error "
      ],
      "metadata": {
        "colab": {
          "base_uri": "https://localhost:8080/",
          "height": 165
        },
        "id": "KXlxX6Xq5ASv",
        "outputId": "0483833e-e9c3-4fc7-8c7a-cad7cab7e4c3"
      },
      "execution_count": 7,
      "outputs": [
        {
          "output_type": "error",
          "ename": "ValueError",
          "evalue": "ignored",
          "traceback": [
            "\u001b[0;31m---------------------------------------------------------------------------\u001b[0m",
            "\u001b[0;31mValueError\u001b[0m                                Traceback (most recent call last)",
            "\u001b[0;32m<ipython-input-7-9cb5d5b266cc>\u001b[0m in \u001b[0;36m<module>\u001b[0;34m\u001b[0m\n\u001b[0;32m----> 1\u001b[0;31m \u001b[0mint\u001b[0m\u001b[0;34m(\u001b[0m\u001b[0;34m'A'\u001b[0m\u001b[0;34m)\u001b[0m \u001b[0;31m#Error due a is not a number\u001b[0m\u001b[0;34m\u001b[0m\u001b[0;34m\u001b[0m\u001b[0m\n\u001b[0m",
            "\u001b[0;31mValueError\u001b[0m: invalid literal for int() with base 10: 'A'"
          ]
        }
      ]
    },
    {
      "cell_type": "code",
      "source": [
        "bool(1) #Entero a booleano"
      ],
      "metadata": {
        "colab": {
          "base_uri": "https://localhost:8080/"
        },
        "id": "LhEwNzEY5v9O",
        "outputId": "e9d86d8f-6f7e-465d-aa47-d2d8bcc6ebea"
      },
      "execution_count": 8,
      "outputs": [
        {
          "output_type": "execute_result",
          "data": {
            "text/plain": [
              "True"
            ]
          },
          "metadata": {},
          "execution_count": 8
        }
      ]
    },
    {
      "cell_type": "code",
      "source": [
        "type(\"Hello world\") #string"
      ],
      "metadata": {
        "colab": {
          "base_uri": "https://localhost:8080/"
        },
        "id": "ksukvXqO43r9",
        "outputId": "70b40ac4-c7f0-45e2-9284-218c47fcc7e8"
      },
      "execution_count": 9,
      "outputs": [
        {
          "output_type": "execute_result",
          "data": {
            "text/plain": [
              "str"
            ]
          },
          "metadata": {},
          "execution_count": 9
        }
      ]
    },
    {
      "cell_type": "code",
      "source": [
        "type(1.1)"
      ],
      "metadata": {
        "colab": {
          "base_uri": "https://localhost:8080/"
        },
        "id": "g6ZUYjVc6S9r",
        "outputId": "e32e3bf9-1e86-40bb-ed34-e86ad572416c"
      },
      "execution_count": 11,
      "outputs": [
        {
          "output_type": "execute_result",
          "data": {
            "text/plain": [
              "float"
            ]
          },
          "metadata": {},
          "execution_count": 11
        }
      ]
    },
    {
      "cell_type": "code",
      "source": [
        "type(1)"
      ],
      "metadata": {
        "colab": {
          "base_uri": "https://localhost:8080/"
        },
        "id": "7ddfn8c06dKc",
        "outputId": "dd9547a2-873e-4fd4-815e-4f6f0aeb45cc"
      },
      "execution_count": 12,
      "outputs": [
        {
          "output_type": "execute_result",
          "data": {
            "text/plain": [
              "int"
            ]
          },
          "metadata": {},
          "execution_count": 12
        }
      ]
    },
    {
      "cell_type": "code",
      "source": [
        "type(True)"
      ],
      "metadata": {
        "colab": {
          "base_uri": "https://localhost:8080/"
        },
        "id": "NKRZJwCc7Snd",
        "outputId": "d0a76696-a279-4574-90c6-e81d041150ca"
      },
      "execution_count": 15,
      "outputs": [
        {
          "output_type": "execute_result",
          "data": {
            "text/plain": [
              "bool"
            ]
          },
          "metadata": {},
          "execution_count": 15
        }
      ]
    },
    {
      "cell_type": "markdown",
      "source": [
        "# **Practica 3**\n"
      ],
      "metadata": {
        "id": "pUMlASLv7po9"
      }
    },
    {
      "cell_type": "code",
      "source": [
        "my_Variable=10 #Asignacion de valor en variable\n",
        "print(my_Variable)"
      ],
      "metadata": {
        "colab": {
          "base_uri": "https://localhost:8080/"
        },
        "id": "upK8vdWs77I-",
        "outputId": "6b17ebff-ddb2-4301-f1b4-4418b26f355b"
      },
      "execution_count": 24,
      "outputs": [
        {
          "output_type": "stream",
          "name": "stdout",
          "text": [
            "10\n"
          ]
        }
      ]
    },
    {
      "cell_type": "code",
      "source": [
        "x = 160 +10 +150 #Asignacion de valor con expresion"
      ],
      "metadata": {
        "id": "tIA97eIn8C6U"
      },
      "execution_count": 19,
      "outputs": []
    },
    {
      "cell_type": "code",
      "source": [
        "y = x/60 #Expresion"
      ],
      "metadata": {
        "id": "dY0tHD6N8OB9"
      },
      "execution_count": 20,
      "outputs": []
    },
    {
      "cell_type": "code",
      "source": [
        "print(y) #Imprimir resultado"
      ],
      "metadata": {
        "colab": {
          "base_uri": "https://localhost:8080/"
        },
        "id": "NdXbcty58SUk",
        "outputId": "da5c0c7c-ee02-4ed3-a84e-9cde371ece2e"
      },
      "execution_count": 22,
      "outputs": [
        {
          "output_type": "stream",
          "name": "stdout",
          "text": [
            "5.333333333333333\n"
          ]
        }
      ]
    },
    {
      "cell_type": "code",
      "source": [
        "total_min = 43+42+57\n",
        "total_hr = total_min/60\n",
        "print(total_hr)"
      ],
      "metadata": {
        "colab": {
          "base_uri": "https://localhost:8080/"
        },
        "id": "P_IjcZH98gJl",
        "outputId": "d9207086-9a1a-4dea-9e5d-7aff8b52340f"
      },
      "execution_count": 30,
      "outputs": [
        {
          "output_type": "stream",
          "name": "stdout",
          "text": [
            "2.3666666666666667\n"
          ]
        }
      ]
    },
    {
      "cell_type": "code",
      "source": [
        "a=2*60+30         #Orden de jerarquia de operacion se respeta\n",
        "b=30+2*60\n",
        "print(a)\n",
        "print(b)"
      ],
      "metadata": {
        "colab": {
          "base_uri": "https://localhost:8080/"
        },
        "id": "14IgT-3389et",
        "outputId": "38333159-69e9-490f-b989-e62267898127"
      },
      "execution_count": 25,
      "outputs": [
        {
          "output_type": "stream",
          "name": "stdout",
          "text": [
            "150\n",
            "150\n"
          ]
        }
      ]
    },
    {
      "cell_type": "code",
      "source": [
        "x = 1 + 2 + 3 * 10        #Operacion Aritmetica\n",
        "y = x * 3\n",
        "z= y / 2\n",
        "print(z)                  #Imprimir"
      ],
      "metadata": {
        "colab": {
          "base_uri": "https://localhost:8080/"
        },
        "id": "PRK3qI8vL_kc",
        "outputId": "63ba683d-fde7-45bf-c5c6-6bcb451981fd"
      },
      "execution_count": 58,
      "outputs": [
        {
          "output_type": "stream",
          "name": "stdout",
          "text": [
            "49.5\n"
          ]
        }
      ]
    },
    {
      "cell_type": "markdown",
      "source": [
        "# **Practica 4**\n"
      ],
      "metadata": {
        "id": "tKktq1svAOj8"
      }
    },
    {
      "cell_type": "code",
      "source": [
        "Name = \"Michael Jackson\"                 #Una cadena se compone de una serie de caracteres\n",
        "print(Name[0:3], Name[6:12])             #Desde 0 al 3 caracter\n",
        "print(Name[::5])                         #De 5 en 5 caracteres\n",
        "print(Name[0], Name[5], Name[10])        #caracter 0, 5 y 10\n",
        "print(\"Michael Jacksaon \\t is the best\") #tab\n",
        "print(\"Michael Jacksaon \\\\ is the best\") #Imprimir slash"
      ],
      "metadata": {
        "colab": {
          "base_uri": "https://localhost:8080/"
        },
        "id": "Z6ax7wcXARhM",
        "outputId": "b20a30b8-2751-4eb3-e065-1d936607a23c"
      },
      "execution_count": 67,
      "outputs": [
        {
          "output_type": "stream",
          "name": "stdout",
          "text": [
            "Mic l Jack\n",
            "Mec\n",
            "M e c\n",
            "Michael Jacksaon \t is the best\n",
            "Michael Jacksaon \\ is the best\n"
          ]
        }
      ]
    },
    {
      "cell_type": "code",
      "source": [
        "Name_example = \"Cristiano Ronaldo\"                 #Una cadena se compone de una serie de caracteres\n",
        "print(Name_example[0:7], Name_example[::2])                        #De 2 en 2"
      ],
      "metadata": {
        "colab": {
          "base_uri": "https://localhost:8080/"
        },
        "id": "9fsH84Q3MsMH",
        "outputId": "20dacb00-dd6c-4cb8-c5d0-b05e0626f839"
      },
      "execution_count": 68,
      "outputs": [
        {
          "output_type": "stream",
          "name": "stdout",
          "text": [
            "Cristia CitaoRnlo\n"
          ]
        }
      ]
    },
    {
      "cell_type": "code",
      "source": [
        "len(\"Michael Jackson\")  #Obtener la longitud de cadena"
      ],
      "metadata": {
        "colab": {
          "base_uri": "https://localhost:8080/"
        },
        "id": "weY-LqShLWYc",
        "outputId": "effefe6e-9eed-41f4-ee0f-8b3f992a8cef"
      },
      "execution_count": 66,
      "outputs": [
        {
          "output_type": "execute_result",
          "data": {
            "text/plain": [
              "15"
            ]
          },
          "metadata": {},
          "execution_count": 66
        }
      ]
    },
    {
      "cell_type": "code",
      "source": [
        "A = \"Samuel Flores\"              #Almacena valor\n",
        "B = A.upper()                    #Convierte a mayusculas\n",
        "print(B)"
      ],
      "metadata": {
        "colab": {
          "base_uri": "https://localhost:8080/"
        },
        "id": "Ypk3B2lCCluk",
        "outputId": "b1678676-5285-433b-8467-cd4b83ebc33e"
      },
      "execution_count": 65,
      "outputs": [
        {
          "output_type": "stream",
          "name": "stdout",
          "text": [
            "SAMUEL FLORES\n"
          ]
        }
      ]
    },
    {
      "cell_type": "code",
      "source": [
        "A = 'Michael is the best'             #Almacena valor\n",
        "B = A.replace('Michael','Samuel')     #Remplaza valor\n",
        "print(B)"
      ],
      "metadata": {
        "colab": {
          "base_uri": "https://localhost:8080/"
        },
        "id": "ynuOV3aRDDK8",
        "outputId": "2b0822f4-3f72-4ff2-8d61-4d7254ae38c2"
      },
      "execution_count": 64,
      "outputs": [
        {
          "output_type": "stream",
          "name": "stdout",
          "text": [
            "Samuel is the best\n"
          ]
        }
      ]
    },
    {
      "cell_type": "code",
      "source": [
        "Name.find('el') #muestra la posicion en la que se encuentra el valor buscado"
      ],
      "metadata": {
        "colab": {
          "base_uri": "https://localhost:8080/"
        },
        "id": "4dzp5ctTDy4U",
        "outputId": "1bfde982-4297-497d-ea47-53d57e0ad191"
      },
      "execution_count": 48,
      "outputs": [
        {
          "output_type": "execute_result",
          "data": {
            "text/plain": [
              "5"
            ]
          },
          "metadata": {},
          "execution_count": 48
        }
      ]
    },
    {
      "cell_type": "code",
      "source": [
        "Name.find('Jack') #muestra la posicion en la que se encuentra el valor buscado"
      ],
      "metadata": {
        "colab": {
          "base_uri": "https://localhost:8080/"
        },
        "id": "f2ZbrRCpEDTc",
        "outputId": "0fcb40e7-d543-4693-d6e7-e38a822e3e81"
      },
      "execution_count": 47,
      "outputs": [
        {
          "output_type": "execute_result",
          "data": {
            "text/plain": [
              "8"
            ]
          },
          "metadata": {},
          "execution_count": 47
        }
      ]
    },
    {
      "cell_type": "code",
      "source": [
        "Name.find('&') #Busqueda de valor no encontrado en la cadena"
      ],
      "metadata": {
        "colab": {
          "base_uri": "https://localhost:8080/"
        },
        "id": "ZzR_1gZ3EIRT",
        "outputId": "0ec1cb7b-c881-4612-8ace-241565d01e74"
      },
      "execution_count": 50,
      "outputs": [
        {
          "output_type": "execute_result",
          "data": {
            "text/plain": [
              "-1"
            ]
          },
          "metadata": {},
          "execution_count": 50
        }
      ]
    },
    {
      "cell_type": "code",
      "source": [
        "B.find('the')"
      ],
      "metadata": {
        "colab": {
          "base_uri": "https://localhost:8080/"
        },
        "id": "ZulTZHTbMaYk",
        "outputId": "71afc269-271c-416f-fa01-f1c40a1ea530"
      },
      "execution_count": 59,
      "outputs": [
        {
          "output_type": "execute_result",
          "data": {
            "text/plain": [
              "10"
            ]
          },
          "metadata": {},
          "execution_count": 59
        }
      ]
    },
    {
      "cell_type": "code",
      "source": [
        "B.find('Samuel')"
      ],
      "metadata": {
        "colab": {
          "base_uri": "https://localhost:8080/"
        },
        "id": "7wAI2Bh8Me11",
        "outputId": "9d0e3dcb-1dba-4395-c72b-6d5fe30c0056"
      },
      "execution_count": 60,
      "outputs": [
        {
          "output_type": "execute_result",
          "data": {
            "text/plain": [
              "0"
            ]
          },
          "metadata": {},
          "execution_count": 60
        }
      ]
    }
  ]
}